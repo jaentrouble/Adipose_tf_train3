{
 "metadata": {
  "language_info": {
   "codemirror_mode": {
    "name": "ipython",
    "version": 3
   },
   "file_extension": ".py",
   "mimetype": "text/x-python",
   "name": "python",
   "nbconvert_exporter": "python",
   "pygments_lexer": "ipython3",
   "version": "3.7.8-final"
  },
  "orig_nbformat": 2,
  "kernelspec": {
   "name": "adipose_train3",
   "display_name": "adipose_train3"
  }
 },
 "nbformat": 4,
 "nbformat_minor": 2,
 "cells": [
  {
   "cell_type": "code",
   "execution_count": 1,
   "metadata": {
    "tags": []
   },
   "outputs": [],
   "source": [
    "%matplotlib inline\n",
    "%load_ext autoreload"
   ]
  },
  {
   "cell_type": "code",
   "execution_count": 2,
   "metadata": {},
   "outputs": [],
   "source": [
    "%autoreload"
   ]
  },
  {
   "cell_type": "code",
   "execution_count": 5,
   "metadata": {
    "tags": []
   },
   "outputs": [
    {
     "output_type": "stream",
     "name": "stdout",
     "text": "/home/jaentrouble/adipose_train3\n"
    }
   ],
   "source": [
    "import os\n",
    "os.chdir('/home/jaentrouble/adipose_train3')\n",
    "print(os.getcwd())"
   ]
  },
  {
   "cell_type": "code",
   "execution_count": 3,
   "metadata": {},
   "outputs": [],
   "source": [
    "import numpy as np\n",
    "import matplotlib.pyplot as plt"
   ]
  },
  {
   "cell_type": "code",
   "execution_count": 4,
   "metadata": {},
   "outputs": [],
   "source": [
    "import imageio as io\n",
    "import json\n",
    "\n",
    "img_names = os.listdir('data/done')\n",
    "img = []\n",
    "img_name_dict = {}\n",
    "for idx, name in enumerate(img_names):\n",
    "    img.append(io.imread('data/done/'+name))\n",
    "    img_name_dict[name] = idx\n",
    "\n",
    "json_names = os.listdir('data/save')\n",
    "data = []\n",
    "for name in json_names:\n",
    "    with open('data/save/'+name,'r') as j:\n",
    "        data.extend(json.load(j))\n",
    "for datum in data :\n",
    "    datum['image'] = img_name_dict[datum['image']]"
   ]
  },
  {
   "cell_type": "code",
   "execution_count": null,
   "metadata": {},
   "outputs": [],
   "source": [
    "!git pull\n",
    "%autoreload"
   ]
  },
  {
   "cell_type": "code",
   "execution_count": 12,
   "metadata": {},
   "outputs": [],
   "source": [
    "from model_trainer import run_training\n",
    "from encoder_models import *\n",
    "from box_models import *\n",
    "from model_lr import *\n",
    "from multiprocessing import Process"
   ]
  },
  {
   "cell_type": "code",
   "execution_count": null,
   "metadata": {},
   "outputs": [],
   "source": [
    "encoder_f = hr_5_3_0\n",
    "box_f = dense_4\n",
    "lr_f = lr_mul_inv\n",
    "name = 'hr_5_3_0_d4'\n",
    "epochs = 20\n",
    "batch_size = 32\n",
    "steps_per_epoch = len(data)//batch_size\n",
    "img_size = (800,600)\n",
    "mixed_float = True"
   ]
  },
  {
   "cell_type": "code",
   "execution_count": 20,
   "metadata": {},
   "outputs": [],
   "source": [
    "kwargs = dict(\n",
    "    encoder_f = encoder_f,\n",
    "    box_f = box_f,\n",
    "    lr_f = lr_f,\n",
    "    name = name,\n",
    "    epochs = epochs,\n",
    "    steps_per_epoch=steps_per_epoch,\n",
    "    mixed_float=mixed_float,\n",
    "    batch_size=batch_size,\n",
    "    img=img,\n",
    "    data=data,\n",
    "    img_size=img_size,\n",
    "    mixed_float=mixed_float,\n",
    "    notebook= True,\n",
    ")"
   ]
  },
  {
   "cell_type": "code",
   "execution_count": 21,
   "metadata": {
    "tags": []
   },
   "outputs": [],
   "source": [
    "p = Process(target=run_training, kwargs=kwargs)\n",
    "p.start()\n",
    "p.join()"
   ]
  }
 ]
}