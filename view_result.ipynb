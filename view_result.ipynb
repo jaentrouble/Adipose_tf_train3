{
 "metadata": {
  "language_info": {
   "codemirror_mode": {
    "name": "ipython",
    "version": 3
   },
   "file_extension": ".py",
   "mimetype": "text/x-python",
   "name": "python",
   "nbconvert_exporter": "python",
   "pygments_lexer": "ipython3",
   "version": "3.7.8-final"
  },
  "orig_nbformat": 2,
  "kernelspec": {
   "name": "adipose_train3",
   "display_name": "adipose_train3"
  }
 },
 "nbformat": 4,
 "nbformat_minor": 2,
 "cells": [
  {
   "cell_type": "code",
   "execution_count": 2,
   "metadata": {},
   "outputs": [],
   "source": [
    "%matplotlib inline\n",
    "%load_ext autoreload"
   ]
  },
  {
   "cell_type": "code",
   "execution_count": 3,
   "metadata": {
    "tags": []
   },
   "outputs": [
    {
     "output_type": "stream",
     "name": "stdout",
     "text": "/home/jaentrouble/adipose_train3\n"
    }
   ],
   "source": [
    "import os\n",
    "os.chdir('/home/jaentrouble/adipose_train3')\n",
    "print(os.getcwd())"
   ]
  },
  {
   "cell_type": "code",
   "execution_count": 4,
   "metadata": {},
   "outputs": [],
   "source": [
    "import imageio as io\n",
    "import json\n",
    "\n",
    "img_names = os.listdir('data/done')\n",
    "img = []\n",
    "img_name_dict = {}\n",
    "for idx, name in enumerate(img_names):\n",
    "    img.append(io.imread('data/done/'+name))\n",
    "    img_name_dict[name] = idx\n",
    "\n",
    "json_names = os.listdir('data/save')\n",
    "data = []\n",
    "for name in json_names:\n",
    "    with open('data/save/'+name,'r') as j:\n",
    "        data.extend(json.load(j))\n",
    "for datum in data :\n",
    "    datum['image'] = img_name_dict[datum['image']]"
   ]
  },
  {
   "cell_type": "code",
   "execution_count": 5,
   "metadata": {
    "tags": []
   },
   "outputs": [],
   "source": [
    "data_train = data[:2600]\n",
    "data_val = data[2600:2900]\n",
    "data_test = data[2900:]"
   ]
  },
  {
   "cell_type": "code",
   "execution_count": 21,
   "metadata": {
    "tags": []
   },
   "outputs": [
    {
     "output_type": "stream",
     "name": "stdout",
     "text": "remote: Enumerating objects: 7, done.\u001b[K\nremote: Counting objects: 100% (7/7), done.\u001b[K\nremote: Compressing objects: 100% (1/1), done.\u001b[K\nremote: Total 4 (delta 3), reused 4 (delta 3), pack-reused 0\u001b[K\nUnpacking objects: 100% (4/4), 925 bytes | 231.00 KiB/s, done.\nFrom https://github.com/jaentrouble/Adipose_tf_train3\n   a38b3a6..cae27b9  master     -> origin/master\nUpdating a38b3a6..cae27b9\nFast-forward\n model_trainer.py  |  1 \u001b[32m+\u001b[m\n view_result.ipynb | 92 \u001b[32m++++++++++++++++++++++++++++++++++++++\u001b[m\u001b[31m-----------------\u001b[m\n 2 files changed, 65 insertions(+), 28 deletions(-)\n"
    }
   ],
   "source": [
    "!git pull\n",
    "%autoreload"
   ]
  },
  {
   "cell_type": "code",
   "execution_count": 7,
   "metadata": {},
   "outputs": [],
   "source": [
    "import numpy as np\n",
    "import matplotlib.pyplot as plt\n",
    "import tensorflow as tf\n",
    "from model_trainer import get_model\n",
    "from box_models import *\n",
    "from encoder_models import *\n",
    "from functools import partial\n",
    "\n",
    "gpus = tf.config.experimental.list_physical_devices('GPU')\n",
    "if gpus :\n",
    "    try :\n",
    "        for gpu in gpus:\n",
    "            tf.config.experimental.set_memory_growth(gpu, True)\n",
    "    except RuntimeError as e:\n",
    "        print(e)"
   ]
  },
  {
   "cell_type": "code",
   "execution_count": 8,
   "metadata": {},
   "outputs": [],
   "source": [
    "img_size=(400,320)\n",
    "encoder_f = hr_5_3_0_gap\n",
    "box_f = partial(dense_128_4_normoutpos, image_size=img_size)\n",
    "savedfile_name = 'hr_5_3_0_d128_normoutpos'\n",
    "target_epoch = 100"
   ]
  },
  {
   "cell_type": "code",
   "execution_count": 9,
   "metadata": {
    "tags": []
   },
   "outputs": [
    {
     "output_type": "stream",
     "name": "stdout",
     "text": "INFO:tensorflow:Mixed precision compatibility check (mixed_float16): OK\nYour GPU will likely run quickly with dtype policy mixed_float16 as it has compute capability of at least 7.0. Your GPU: GeForce RTX 2070 SUPER, compute capability 7.5\n"
    }
   ],
   "source": [
    "test_model = get_model(encoder_f, box_f, img_size)\n"
   ]
  },
  {
   "cell_type": "code",
   "execution_count": 10,
   "metadata": {
    "tags": []
   },
   "outputs": [
    {
     "output_type": "execute_result",
     "data": {
      "text/plain": "<tensorflow.python.training.tracking.util.CheckpointLoadStatus at 0x7fcb327bbf90>"
     },
     "metadata": {},
     "execution_count": 10
    }
   ],
   "source": [
    "from pathlib import Path\n",
    "savedfile_name = Path(savedfile_name)\n",
    "weight_path = 'savedmodels' / savedfile_name / str(target_epoch)\n",
    "test_model.load_weights(str(weight_path))"
   ]
  },
  {
   "cell_type": "code",
   "execution_count": 22,
   "metadata": {},
   "outputs": [],
   "source": [
    "from model_trainer import create_val_data\n",
    "\n",
    "X_test, Y_test = create_val_data(img, data_test, img_size)"
   ]
  },
  {
   "cell_type": "code",
   "execution_count": 23,
   "metadata": {
    "tags": []
   },
   "outputs": [
    {
     "output_type": "stream",
     "name": "stdout",
     "text": "WARNING:tensorflow:Model was constructed with shape (None, 400, 320, 3) for input Tensor(\"input_1:0\", shape=(None, 400, 320, 3), dtype=float32), but it was called on an input with incompatible shape (None, 320, 400, 3).\n30/30 [==============================] - 4s 117ms/step - loss: 0.2665\n"
    },
    {
     "output_type": "execute_result",
     "data": {
      "text/plain": "0.26651227474212646"
     },
     "metadata": {},
     "execution_count": 23
    }
   ],
   "source": [
    "test_model.evaluate(X_test,Y_test, batch_size=10)"
   ]
  },
  {
   "cell_type": "code",
   "execution_count": 19,
   "metadata": {},
   "outputs": [],
   "source": [
    "Target_X = {}\n",
    "Target_X['image'] = X_test['image'][:10]\n",
    "Target_X['pos'] = X_test['pos'][:10]\n",
    "Target_Y = Y_test[:10]\n",
    "Target_data = data_test[:10]\n",
    "predict = test_model(Target_X)\n",
    "predict = predict.numpy()"
   ]
  },
  {
   "cell_type": "code",
   "execution_count": 20,
   "metadata": {
    "tags": []
   },
   "outputs": [
    {
     "output_type": "stream",
     "name": "stdout",
     "text": "[0.         0.         0.08837891 0.13842773]\n"
    }
   ],
   "source": [
    "predict = np.clip(predict, 0, 1)\n",
    "print(predict[0])"
   ]
  },
  {
   "cell_type": "code",
   "execution_count": null,
   "metadata": {},
   "outputs": [],
   "source": [
    "fig = plt.figure(figsize=(15,15))\n",
    "for idx in range(10):\n",
    "    ax = fig.add_subplot(10,3,idx)\n",
    "    img = img[Target_data[idx]['image']]"
   ]
  }
 ]
}