{
 "metadata": {
  "language_info": {
   "codemirror_mode": {
    "name": "ipython",
    "version": 3
   },
   "file_extension": ".py",
   "mimetype": "text/x-python",
   "name": "python",
   "nbconvert_exporter": "python",
   "pygments_lexer": "ipython3",
   "version": "3.7.8-final"
  },
  "orig_nbformat": 2,
  "kernelspec": {
   "name": "adipose_train3",
   "display_name": "adipose_train3"
  }
 },
 "nbformat": 4,
 "nbformat_minor": 2,
 "cells": [
  {
   "cell_type": "code",
   "execution_count": 1,
   "metadata": {},
   "outputs": [],
   "source": [
    "%matplotlib inline\n",
    "%load_ext autoreload"
   ]
  },
  {
   "cell_type": "code",
   "execution_count": 2,
   "metadata": {
    "tags": []
   },
   "outputs": [
    {
     "output_type": "stream",
     "name": "stdout",
     "text": "/home/jaentrouble/adipose_train3\n"
    }
   ],
   "source": [
    "import os\n",
    "os.chdir('/home/jaentrouble/adipose_train3')\n",
    "print(os.getcwd())"
   ]
  },
  {
   "cell_type": "code",
   "execution_count": 3,
   "metadata": {},
   "outputs": [],
   "source": [
    "import imageio as io\n",
    "import json\n",
    "\n",
    "img_names = os.listdir('data/done')\n",
    "img = []\n",
    "img_name_dict = {}\n",
    "for idx, name in enumerate(img_names):\n",
    "    img.append(io.imread('data/done/'+name))\n",
    "    img_name_dict[name] = idx\n",
    "\n",
    "json_names = os.listdir('data/save')\n",
    "data = []\n",
    "for name in json_names:\n",
    "    with open('data/save/'+name,'r') as j:\n",
    "        data.extend(json.load(j))\n",
    "for datum in data :\n",
    "    datum['image'] = img_name_dict[datum['image']]"
   ]
  },
  {
   "cell_type": "code",
   "execution_count": 4,
   "metadata": {
    "tags": []
   },
   "outputs": [],
   "source": [
    "data_train = data[:2600]\n",
    "data_val = data[2600:2900]\n",
    "data_test = data[2900:]"
   ]
  },
  {
   "cell_type": "code",
   "execution_count": 5,
   "metadata": {
    "tags": []
   },
   "outputs": [
    {
     "output_type": "stream",
     "name": "stdout",
     "text": "Already up to date.\n"
    }
   ],
   "source": [
    "!git pull\n",
    "%autoreload"
   ]
  },
  {
   "cell_type": "code",
   "execution_count": 6,
   "metadata": {},
   "outputs": [],
   "source": [
    "import numpy as np\n",
    "import matplotlib.pyplot as plt\n",
    "import tensorflow as tf\n",
    "from model_trainer import get_model\n",
    "from box_models import *\n",
    "from encoder_models import *\n",
    "from functools import partial\n",
    "\n",
    "gpus = tf.config.experimental.list_physical_devices('GPU')\n",
    "if gpus :\n",
    "    try :\n",
    "        for gpu in gpus:\n",
    "            tf.config.experimental.set_memory_growth(gpu, True)\n",
    "    except RuntimeError as e:\n",
    "        print(e)"
   ]
  },
  {
   "cell_type": "code",
   "execution_count": 7,
   "metadata": {},
   "outputs": [],
   "source": [
    "img_size=(400,320)\n",
    "encoder_f = hr_5_3_0_gap\n",
    "box_f = partial(dense_128_4_normoutpos, image_size=img_size)\n",
    "savedfile_name = 'hr_5_3_0_d128_normoutpos'\n",
    "target_epoch = 100"
   ]
  },
  {
   "cell_type": "code",
   "execution_count": 9,
   "metadata": {},
   "outputs": [],
   "source": [
    "test_model = get_model(encoder_f, box_f, img_size)\n"
   ]
  },
  {
   "cell_type": "code",
   "execution_count": 10,
   "metadata": {
    "tags": []
   },
   "outputs": [
    {
     "output_type": "stream",
     "name": "stdout",
     "text": "WARNING:tensorflow:Inconsistent references when loading the checkpoint into this object graph. Either the Trackable object references in the Python program have changed in an incompatible way, or the checkpoint was generated in an incompatible program.\n\nTwo checkpoint references resolved to different objects (<tensorflow.python.keras.layers.core.Dense object at 0x7efb3d23f7d0> and <tensorflow.python.keras.layers.core.Dense object at 0x7efb3d2745d0>).\nWARNING:tensorflow:Inconsistent references when loading the checkpoint into this object graph. Either the Trackable object references in the Python program have changed in an incompatible way, or the checkpoint was generated in an incompatible program.\n\nTwo checkpoint references resolved to different objects (<tensorflow.python.keras.layers.core.Dense object at 0x7efb3d2745d0> and <tensorflow.python.keras.layers.core.Activation object at 0x7efb3d274fd0>).\n"
    },
    {
     "output_type": "execute_result",
     "data": {
      "text/plain": "<tensorflow.python.training.tracking.util.CheckpointLoadStatus at 0x7efb3f7fcb10>"
     },
     "metadata": {},
     "execution_count": 10
    }
   ],
   "source": [
    "from pathlib import Path\n",
    "savedfile_name = Path(savedfile_name)\n",
    "weight_path = 'savedmodels' / savedfile_name / str(target_epoch)\n",
    "test_model.load_weights(str(weight_path))"
   ]
  },
  {
   "cell_type": "code",
   "execution_count": 11,
   "metadata": {},
   "outputs": [],
   "source": [
    "wv = tf.train.list_variables(str(weight_path))"
   ]
  },
  {
   "cell_type": "code",
   "execution_count": 12,
   "metadata": {},
   "outputs": [
    {
     "output_type": "execute_result",
     "data": {
      "text/plain": "('_CHECKPOINTABLE_OBJECT_GRAPH', [])"
     },
     "metadata": {},
     "execution_count": 12
    }
   ],
   "source": [
    "wv[0]"
   ]
  },
  {
   "cell_type": "code",
   "execution_count": null,
   "metadata": {},
   "outputs": [],
   "source": []
  }
 ]
}